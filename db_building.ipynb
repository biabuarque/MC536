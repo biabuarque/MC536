{
 "cells": [
  {
   "cell_type": "code",
   "execution_count": 1,
   "id": "940b0655",
   "metadata": {
    "vscode": {
     "languageId": "shellscript"
    }
   },
   "outputs": [
    {
     "name": "stdout",
     "output_type": "stream",
     "text": [
      "Requirement already satisfied: psycopg2 in c:\\users\\silva\\desktop\\1s2025\\mc536\\.venv\\lib\\site-packages (2.9.10)\n"
     ]
    }
   ],
   "source": [
    "!pip install psycopg2"
   ]
  },
  {
   "cell_type": "code",
   "execution_count": 2,
   "id": "3d2b6bac",
   "metadata": {},
   "outputs": [],
   "source": [
    "import psycopg2\n",
    "import io"
   ]
  },
  {
   "cell_type": "code",
   "execution_count": 3,
   "id": "da9a463b",
   "metadata": {},
   "outputs": [],
   "source": [
    "import os\n",
    "os.environ['PYTHONIOENCODING'] = 'utf-8'"
   ]
  },
  {
   "cell_type": "code",
   "execution_count": 4,
   "id": "d2731fe8",
   "metadata": {},
   "outputs": [
    {
     "data": {
      "text/plain": [
       "'en_US.UTF-8'"
      ]
     },
     "execution_count": 4,
     "metadata": {},
     "output_type": "execute_result"
    }
   ],
   "source": [
    "import locale\n",
    "locale.setlocale(locale.LC_ALL, 'en_US.UTF-8')"
   ]
  },
  {
   "cell_type": "code",
   "execution_count": 5,
   "id": "bf5df475",
   "metadata": {},
   "outputs": [],
   "source": [
    "conn = psycopg2.connect(\n",
    "    dbname=\"postgres\",\n",
    "    user=\"postgres\",\n",
    "    password=\"8483$Bia\",\n",
    "    host=\"localhost\",\n",
    "    port=\"5432\"\n",
    ")"
   ]
  },
  {
   "cell_type": "code",
   "execution_count": 6,
   "id": "d67841f9",
   "metadata": {},
   "outputs": [],
   "source": [
    "cur = conn.cursor()"
   ]
  },
  {
   "cell_type": "code",
   "execution_count": 7,
   "id": "2dad63ed",
   "metadata": {},
   "outputs": [],
   "source": [
    "with open('utils/build_script.sql', 'r') as file:\n",
    "    sql_script = file.read()\n",
    "\n",
    "cur.execute(sql_script)"
   ]
  },
  {
   "cell_type": "code",
   "execution_count": 8,
   "id": "b584cd63",
   "metadata": {},
   "outputs": [],
   "source": [
    "cur.execute(\"SELECT * FROM distrito\")"
   ]
  },
  {
   "cell_type": "code",
   "execution_count": 9,
   "id": "a474c913",
   "metadata": {},
   "outputs": [
    {
     "name": "stdout",
     "output_type": "stream",
     "text": [
      "[]\n"
     ]
    }
   ],
   "source": [
    "rows = cur.fetchall()\n",
    "print(rows)"
   ]
  },
  {
   "cell_type": "code",
   "execution_count": 10,
   "id": "309c5993",
   "metadata": {},
   "outputs": [],
   "source": [
    "try:\n",
    "    cur.execute(\"DROP TABLE IF EXISTS MATRICULAS\")\n",
    "    cur.execute(\"\"\"\n",
    "        CREATE TABLE MATRICULAS (\n",
    "            AN_LETIVO                     numeric,\n",
    "            CD_UNIDADE_EDUCACAO           numeric,\n",
    "            NOME_DISTRITO                 text,\n",
    "            CD_SETOR                      numeric,\n",
    "            TIPO_ESCOLA                   text,\n",
    "            NOME_ESCOLA                   text,\n",
    "            DRE                           text,\n",
    "            CD_INEP_ESCOLA                numeric,\n",
    "            CD_TURNO                      numeric,\n",
    "            DESC_TURNO                    text,\n",
    "            CD_SERIE                      numeric,\n",
    "            DESC_SERIE                    text,\n",
    "            MODALIDADE                    text,\n",
    "            NOME_TURMA                    text,\n",
    "            DESC_ETAPA_ENSINO             text,\n",
    "            DESC_CICLO_ENSINO             text,\n",
    "            DESC_TIPO_TURMA               text,\n",
    "            CD_ALUNO_SME                  numeric,\n",
    "            NASC_ALUNO                    timestamp,\n",
    "            CD_SEXO                       text,\n",
    "            DESC_RACA_COR                 text,\n",
    "            DESC_PAIS_NASC                text,\n",
    "            NEE                           text,\n",
    "            CD_MAT                        numeric,\n",
    "            DT_IN_MAT                     timestamp,\n",
    "            DT_FIM_MAT                    timestamp,\n",
    "            SITUACAO_MAT                  text,\n",
    "            DATA_SIT                      timestamp\n",
    "        )\n",
    "    \"\"\")\n",
    "    conn.commit()\n",
    "except Exception as e:\n",
    "    print(\"failed to create table:\", e)\n",
    "    conn.rollback()\n"
   ]
  },
  {
   "cell_type": "code",
   "execution_count": 11,
   "id": "5a013d0c",
   "metadata": {},
   "outputs": [],
   "source": [
    "copy_command = \"\"\"\n",
    "COPY MATRICULAS (\n",
    "    AN_LETIVO,\n",
    "    CD_UNIDADE_EDUCACAO,\n",
    "    NOME_DISTRITO,\n",
    "    CD_SETOR,\n",
    "    TIPO_ESCOLA,\n",
    "    NOME_ESCOLA,\n",
    "    DRE,\n",
    "    CD_INEP_ESCOLA,\n",
    "    CD_TURNO,\n",
    "    DESC_TURNO,\n",
    "    CD_SERIE,\n",
    "    DESC_SERIE,\n",
    "    MODALIDADE,\n",
    "    NOME_TURMA,\n",
    "    DESC_ETAPA_ENSINO,\n",
    "    DESC_CICLO_ENSINO,\n",
    "    DESC_TIPO_TURMA,\n",
    "    CD_ALUNO_SME,\n",
    "    NASC_ALUNO,\n",
    "    CD_SEXO,\n",
    "    DESC_RACA_COR,\n",
    "    DESC_PAIS_NASC,\n",
    "    NEE,\n",
    "    CD_MAT,\n",
    "    DT_IN_MAT,\n",
    "    DT_FIM_MAT,\n",
    "    SITUACAO_MAT,\n",
    "    DATA_SIT\n",
    ")\n",
    "FROM STDIN WITH (\n",
    "    FORMAT CSV,\n",
    "    HEADER,\n",
    "    DELIMITER ';',\n",
    "    NULL ''\n",
    ");\n",
    "\"\"\"\n",
    "\n",
    "try:\n",
    "\n",
    "    for file in os.listdir('datasets'):\n",
    "        if file.endswith('.csv') and 'Microdados' in file:\n",
    "            with open(os.path.join('datasets', file), 'r', encoding='utf-8-sig') as f:\n",
    "                class CommaToDot(io.TextIOBase):\n",
    "                    def __init__(self, f):  self.f = f\n",
    "                    def read(self, size=-1):\n",
    "                        chunk = self.f.read(size)\n",
    "                        return chunk.replace(',', '.') if chunk else ''\n",
    "\n",
    "                fixer = CommaToDot(f)\n",
    "                cur.copy_expert(copy_command, fixer)\n",
    "                conn.commit()\n",
    "\n",
    "except Exception as e:\n",
    "    print(\"failed to populate table:\", e)\n",
    "    conn.rollback()"
   ]
  },
  {
   "cell_type": "code",
   "execution_count": 12,
   "id": "74fb5b8b",
   "metadata": {},
   "outputs": [],
   "source": [
    "try:\n",
    "    cur.execute(\"\"\"\n",
    "    DROP TABLE IF EXISTS TURMAS;\n",
    "\n",
    "    CREATE TABLE TURMAS (\n",
    "        DRE               TEXT,\n",
    "        CODINEP           NUMERIC,\n",
    "        TIPOESC           TEXT,\n",
    "        NOMESC            TEXT,\n",
    "        SUBPREF           TEXT,\n",
    "        DISTRITO          TEXT,\n",
    "        CODAMB            NUMERIC,\n",
    "        DESCAMB           TEXT,\n",
    "        CAPREAL           NUMERIC,\n",
    "        METRAGEM          NUMERIC,\n",
    "        MODAL             TEXT,\n",
    "        REDE              TEXT,\n",
    "        CODSERIE          NUMERIC,\n",
    "        DESCSERIE         TEXT,\n",
    "        TURNO             NUMERIC,\n",
    "        TURMA             TEXT,\n",
    "        VAGOFER           NUMERIC,\n",
    "        MATRIC            NUMERIC\n",
    "    )\n",
    "    \"\"\")\n",
    "    conn.commit()\n",
    "\n",
    "except Exception as e:\n",
    "    print(\"failed to create table:\", e)\n",
    "    conn.rollback()"
   ]
  },
  {
   "cell_type": "code",
   "execution_count": 13,
   "id": "f8b8a980",
   "metadata": {},
   "outputs": [],
   "source": [
    "copy_command = \"\"\"\n",
    "COPY TURMAS (\n",
    "    DRE,\n",
    "    CODINEP,\n",
    "    TIPOESC,\n",
    "    NOMESC,\n",
    "    SUBPREF,\n",
    "    DISTRITO,\n",
    "    CODAMB,\n",
    "    DESCAMB,\n",
    "    CAPREAL,\n",
    "    METRAGEM,\n",
    "    MODAL,\n",
    "    REDE,\n",
    "    CODSERIE,\n",
    "    DESCSERIE,\n",
    "    TURNO,\n",
    "    TURMA,\n",
    "    VAGOFER,\n",
    "    MATRIC\n",
    ")\n",
    "FROM STDIN WITH (\n",
    "    FORMAT CSV,\n",
    "    HEADER,\n",
    "    DELIMITER ';',\n",
    "    NULL ''\n",
    ");\n",
    "\"\"\"\n",
    "try:\n",
    "    with open('datasets/turmas_processed.csv', 'r', encoding='utf-8-sig') as f:\n",
    "        cur.copy_expert(copy_command, f)\n",
    "        conn.commit()\n",
    "\n",
    "except Exception as e:\n",
    "    print(\"failed to populate table:\", e)\n",
    "    conn.rollback()\n"
   ]
  },
  {
   "cell_type": "code",
   "execution_count": 14,
   "id": "e218b394",
   "metadata": {},
   "outputs": [],
   "source": [
    "try:\n",
    "    cur.execute(\"\"\"\n",
    "    DROP TABLE IF EXISTS PARCERIAS;\n",
    "\n",
    "    CREATE TABLE PARCERIAS (\n",
    "        NUM_PROTOCOLO       NUMERIC,\n",
    "        DRE                 TEXT,\n",
    "        OSC_PARCEIRA        TEXT,\n",
    "        CNPJ                TEXT,\n",
    "        CODIGO_ESCOLA       NUMERIC,\n",
    "        UNIDADE_EDUCACIONAL TEXT,\n",
    "        VALOR_MENSAL        NUMERIC,\n",
    "        VERBA_LOCACAO       NUMERIC,\n",
    "        VALOR_MENSAL_IPTU   NUMERIC,\n",
    "        DATA_INICIO         TIMESTAMP,\n",
    "        DATA_TERMINO        TIMESTAMP\n",
    "    )\n",
    "    \"\"\")\n",
    "    conn.commit()\n",
    "\n",
    "except Exception as e:\n",
    "    print(\"failed to create table:\", e)\n",
    "    conn.rollback()"
   ]
  },
  {
   "cell_type": "code",
   "execution_count": 15,
   "id": "ddc51872",
   "metadata": {},
   "outputs": [],
   "source": [
    "copy_command = \"\"\"\n",
    "COPY PARCERIAS (\n",
    "    NUM_PROTOCOLO,\n",
    "    DRE,\n",
    "    OSC_PARCEIRA,\n",
    "    CNPJ,\n",
    "    CODIGO_ESCOLA,\n",
    "    UNIDADE_EDUCACIONAL,\n",
    "    VALOR_MENSAL,\n",
    "    VERBA_LOCACAO,\n",
    "    VALOR_MENSAL_IPTU,\n",
    "    DATA_INICIO,\n",
    "    DATA_TERMINO\n",
    ")\n",
    "FROM STDIN WITH (\n",
    "    FORMAT CSV,\n",
    "    HEADER,\n",
    "    DELIMITER ';',\n",
    "    NULL ''\n",
    ");\n",
    "\"\"\"\n",
    "try:\n",
    "    with open('datasets/parcerias_processed.csv', 'r', encoding='utf-8-sig') as f:\n",
    "        class CommaToDot(io.TextIOBase):\n",
    "                    def __init__(self, f):  self.f = f\n",
    "                    def read(self, size=-1):\n",
    "                        chunk = self.f.read(size)\n",
    "                        return chunk.replace(',', '.') if chunk else ''\n",
    "\n",
    "        fixer = CommaToDot(f)\n",
    "        cur.copy_expert(copy_command, fixer)\n",
    "        conn.commit()\n",
    "\n",
    "except Exception as e:\n",
    "    print(\"failed to populate table:\", e)\n",
    "    conn.rollback()"
   ]
  },
  {
   "cell_type": "code",
   "execution_count": 16,
   "id": "301f33eb",
   "metadata": {},
   "outputs": [],
   "source": [
    "# DISTRITO\n",
    "try:\n",
    "    cur.execute(\"\"\"\n",
    "        INSERT INTO Distrito (nome_distrito, dre, subpref)\n",
    "        SELECT DISTINCT distrito, dre, subpref\n",
    "        FROM Turmas\n",
    "        ON CONFLICT (nome_distrito) DO NOTHING\n",
    "                \"\"\")\n",
    "    conn.commit()\n",
    "\n",
    "except Exception as e:\n",
    "    print(\"failed to populate table DISTRITO:\", e)\n",
    "    conn.rollback()\n",
    "\n",
    "# TURNO\n",
    "try:\n",
    "    cur.execute(\"\"\"\n",
    "        INSERT INTO Turno (cod_turno, descricao_turno)\n",
    "        SELECT DISTINCT cd_turno, desc_turno\n",
    "        FROM Matriculas\n",
    "        ON CONFLICT (cod_turno) DO NOTHING\n",
    "    \"\"\")\n",
    "    conn.commit()\n",
    "\n",
    "except Exception as e:\n",
    "    print(\"failed to populate table TURNO:\", e)\n",
    "    conn.rollback()\n",
    "\n",
    "# SERIE\n",
    "try:\n",
    "    cur.execute(\"\"\"\n",
    "        INSERT INTO Serie (cod_serie, descricao_serie, modalidade)\n",
    "        SELECT DISTINCT cd_serie, desc_serie, modalidade\n",
    "        FROM Matriculas\n",
    "        ON CONFLICT (cod_serie) DO NOTHING\n",
    "    \"\"\")\n",
    "    conn.commit()\n",
    "\n",
    "except Exception as e:\n",
    "    print(\"failed to populate table SERIE:\", e)\n",
    "    conn.rollback()\n",
    "\n",
    "# MATERIA\n",
    "try:\n",
    "    cur.execute(\"\"\"\n",
    "        INSERT INTO Materia (cd_materia, data_inicio, data_final)\n",
    "        SELECT DISTINCT cd_mat, dt_in_mat, dt_fim_mat\n",
    "        FROM Matriculas\n",
    "                WHERE cd_mat IS NOT NULL\n",
    "        ON CONFLICT (cd_materia) DO NOTHING\n",
    "    \"\"\")\n",
    "    conn.commit()\n",
    "\n",
    "except Exception as e:\n",
    "    print(\"failed to populate table MATERIA:\", e)\n",
    "    conn.rollback()\n"
   ]
  },
  {
   "cell_type": "code",
   "execution_count": 17,
   "id": "ca50ed84",
   "metadata": {},
   "outputs": [],
   "source": [
    "\n",
    "# AMBIENTE\n",
    "try:\n",
    "    cur.execute(\"\"\"\n",
    "        INSERT INTO Ambiente (cod_amb, cod_inep, desc_amb, capacidade, metragem)\n",
    "        SELECT DISTINCT codamb, codinep, descamb, capreal, metragem\n",
    "        FROM Turmas\n",
    "        INNER JOIN Matriculas ON Turmas.codinep = Matriculas.cd_inep_escola\n",
    "                WHERE metragem IS NOT NULL AND codinep IS NOT NULL AND capreal IS NOT NULL\n",
    "        ON CONFLICT (cod_amb) DO NOTHING\n",
    "    \"\"\")\n",
    "    conn.commit()\n",
    "\n",
    "except Exception as e:\n",
    "    print(\"failed to populate table AMBIENTE:\", e)\n",
    "    conn.rollback()\n"
   ]
  },
  {
   "cell_type": "code",
   "execution_count": 18,
   "id": "ae857a2c",
   "metadata": {},
   "outputs": [],
   "source": [
    "\n",
    "# OSC\n",
    "try:\n",
    "    cur.execute(\"\"\"\n",
    "        INSERT INTO OSC (cnpj, nome)\n",
    "        SELECT DISTINCT cnpj, osc_parceira\n",
    "        FROM Parcerias\n",
    "        ON CONFLICT (cnpj) DO NOTHING\n",
    "    \"\"\")\n",
    "    conn.commit()\n",
    "\n",
    "except Exception as e:\n",
    "    print(\"failed to populate table OSC:\", e)\n",
    "    conn.rollback()\n",
    "\n",
    "# PARCERIA\n",
    "try:\n",
    "    cur.execute(\"\"\"\n",
    "        INSERT INTO Parceria (protocolo, osc_cnpj, valor_mensal, verba_locacao, valor_mensal_iptu, data_inicio, data_termino)\n",
    "        SELECT DISTINCT num_protocolo, cnpj, valor_mensal, verba_locacao, valor_mensal_iptu, data_inicio, data_termino\n",
    "        FROM Parcerias\n",
    "        ON CONFLICT (protocolo) DO NOTHING\n",
    "    \"\"\")\n",
    "    conn.commit()\n",
    "\n",
    "except Exception as e:\n",
    "    print(\"failed to populate table PARCERIA:\", e)\n",
    "    conn.rollback()\n"
   ]
  },
  {
   "cell_type": "code",
   "execution_count": 19,
   "id": "ac8b89d0",
   "metadata": {},
   "outputs": [
    {
     "name": "stdout",
     "output_type": "stream",
     "text": [
      "failed to populate table ALUNO: ERRO:  não foi possível escrever no arquivo \"base/pgsql_tmp/pgsql_tmp28204.16\": No space left on device\n",
      "\n"
     ]
    }
   ],
   "source": [
    "\n",
    "# ALUNO\n",
    "try:\n",
    "    cur.execute(\"\"\"\n",
    "        INSERT INTO Aluno (id_aluno, nome_turma, nee, raca_cor, sexo, pais_nasc, nascimento)\n",
    "        SELECT DISTINCT cd_aluno_sme, nome_turma, nee, desc_raca_cor, cd_sexo, desc_pais_nasc, nasc_aluno\n",
    "        FROM Matriculas\n",
    "        INNER JOIN Turmas ON Matriculas.nome_turma = Turmas.turma\n",
    "                WHERE nome_turma IS NOT NULL AND nasc_aluno IS NOT NULL\n",
    "        ON CONFLICT (id_aluno) DO NOTHING\n",
    "    \"\"\")\n",
    "    conn.commit()\n",
    "except Exception as e:\n",
    "    print(\"failed to populate table ALUNO:\", e)\n",
    "    conn.rollback()\n"
   ]
  },
  {
   "cell_type": "code",
   "execution_count": 20,
   "id": "3c0f2dd0",
   "metadata": {},
   "outputs": [
    {
     "name": "stdout",
     "output_type": "stream",
     "text": [
      "failed to populate table SITUACAO: ERRO:  o valor nulo na coluna \"cd_materia\" da relação \"situacao\" viola a restrição de não-nulo\n",
      "DETAIL:  Registro que falhou contém (967, 126638000000000, null, Desistente, 2023-07-01).\n",
      "\n"
     ]
    }
   ],
   "source": [
    "\n",
    "# SITUACAO\n",
    "try:\n",
    "    cur.execute(\"\"\"\n",
    "        INSERT INTO Situacao (id_situacao, id_aluno, cd_materia, desc_situacao, data_coleta)\n",
    "        SELECT\n",
    "        ROW_NUMBER() OVER (ORDER BY cd_aluno_sme, cd_mat) - 1 AS id_situacao,\n",
    "        sub.cd_aluno_sme,\n",
    "        sub.cd_mat,\n",
    "        sub.situacao_mat,\n",
    "        sub.data_sit\n",
    "        FROM (\n",
    "        SELECT DISTINCT\n",
    "            cd_aluno_sme,\n",
    "            cd_mat,\n",
    "            situacao_mat,\n",
    "            data_sit\n",
    "        FROM Matriculas\n",
    "        ) AS sub\n",
    "        ON CONFLICT (id_situacao) DO NOTHING;\n",
    "    \"\"\")\n",
    "    conn.commit()\n",
    "except Exception as e:\n",
    "    print(\"failed to populate table SITUACAO:\", e)\n",
    "    conn.rollback()\n"
   ]
  },
  {
   "cell_type": "code",
   "execution_count": 21,
   "id": "5d995739",
   "metadata": {},
   "outputs": [
    {
     "name": "stdout",
     "output_type": "stream",
     "text": [
      "failed to populate table ESCOLA: ERRO:  valor é muito longo para tipo character varying(50)\n",
      "\n"
     ]
    }
   ],
   "source": [
    "\n",
    "# TURMA\n",
    "try:\n",
    "    cur.execute(\"\"\"\n",
    "        INSERT INTO Turma (nome_turma, cd_inep_escola, cod_turno, cod_serie, matriculados, vagas, tipo_turma, etapa_ensino, ciclo_ensino)\n",
    "        SELECT DISTINCT \n",
    "                t.turma, t.codinep, m.cd_turno, m.cd_serie, t.matric, t.vagofer, m.desc_tipo_turma, m.desc_etapa_ensino, m.desc_ciclo_ensino\n",
    "        FROM Turmas t\n",
    "        INNER JOIN Matriculas m\n",
    "            ON t.codinep = m.cd_inep_escola AND t.turma = m.nome_turma\n",
    "        ON CONFLICT (nome_turma) DO NOTHING\n",
    "    \"\"\")\n",
    "    conn.commit()\n",
    "\n",
    "except Exception as e:\n",
    "    print(\"failed to populate table TURMA:\", e)\n",
    "    conn.rollback()\n",
    "\n",
    "# ESCOLA\n",
    "try:\n",
    "    cur.execute(\"\"\"\n",
    "        INSERT INTO Escola (cod_inep, nome_distrito, protocolo, tipo_esc, nome_esc, rede)\n",
    "        SELECT DISTINCT\n",
    "        t.codinep,\n",
    "        t.distrito,\n",
    "        p.num_protocolo,\n",
    "        t.tipoesc,\n",
    "        t.nomesc,\n",
    "        t.rede\n",
    "        FROM Turmas t\n",
    "        LEFT JOIN Parcerias p\n",
    "        ON p.unidade_educacional ILIKE '%' || t.nomesc || '%'\n",
    "        ON CONFLICT (cod_inep) DO NOTHING;\n",
    "    \"\"\")\n",
    "    conn.commit()\n",
    "\n",
    "except Exception as e:\n",
    "    print(\"failed to populate table ESCOLA:\", e)\n",
    "    conn.rollback()\n",
    "\n"
   ]
  },
  {
   "cell_type": "code",
   "execution_count": null,
   "id": "6d7f6e9a",
   "metadata": {},
   "outputs": [],
   "source": [
    "conn.commit()\n",
    "cur.close()\n",
    "conn.close()"
   ]
  }
 ],
 "metadata": {
  "kernelspec": {
   "display_name": ".venv",
   "language": "python",
   "name": "python3"
  },
  "language_info": {
   "codemirror_mode": {
    "name": "ipython",
    "version": 3
   },
   "file_extension": ".py",
   "mimetype": "text/x-python",
   "name": "python",
   "nbconvert_exporter": "python",
   "pygments_lexer": "ipython3",
   "version": "3.13.0"
  }
 },
 "nbformat": 4,
 "nbformat_minor": 5
}
