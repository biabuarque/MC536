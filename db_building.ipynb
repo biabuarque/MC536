{
 "cells": [
  {
   "cell_type": "code",
   "execution_count": null,
   "id": "940b0655",
   "metadata": {
    "vscode": {
     "languageId": "shellscript"
    }
   },
   "outputs": [],
   "source": [
    "!pip install psycopg2"
   ]
  },
  {
   "cell_type": "code",
   "execution_count": 2,
   "id": "3d2b6bac",
   "metadata": {},
   "outputs": [],
   "source": [
    "import psycopg2\n",
    "import io"
   ]
  },
  {
   "cell_type": "code",
   "execution_count": 13,
   "id": "da9a463b",
   "metadata": {},
   "outputs": [],
   "source": [
    "import os\n",
    "os.environ['PYTHONIOENCODING'] = 'utf-8'"
   ]
  },
  {
   "cell_type": "code",
   "execution_count": null,
   "id": "d2731fe8",
   "metadata": {},
   "outputs": [],
   "source": [
    "import locale\n",
    "locale.setlocale(locale.LC_ALL, 'en_US.UTF-8')"
   ]
  },
  {
   "cell_type": "code",
   "execution_count": 3,
   "id": "bf5df475",
   "metadata": {},
   "outputs": [],
   "source": [
    "conn = psycopg2.connect(\n",
    "    dbname=\"postgres\",\n",
    "    user=\"postgres\",\n",
    "    password=\"8483$Bia\",\n",
    "    host=\"localhost\",\n",
    "    port=\"5432\"\n",
    ")"
   ]
  },
  {
   "cell_type": "code",
   "execution_count": 4,
   "id": "d67841f9",
   "metadata": {},
   "outputs": [],
   "source": [
    "cur = conn.cursor()"
   ]
  },
  {
   "cell_type": "code",
   "execution_count": null,
   "id": "2dad63ed",
   "metadata": {},
   "outputs": [],
   "source": [
    "with open('utils/build_script.sql', 'r') as file:\n",
    "    sql_script = file.read()\n",
    "\n",
    "cur.execute(sql_script)"
   ]
  },
  {
   "cell_type": "code",
   "execution_count": 5,
   "id": "b584cd63",
   "metadata": {},
   "outputs": [],
   "source": [
    "cur.execute(\"SELECT * FROM distrito\")"
   ]
  },
  {
   "cell_type": "code",
   "execution_count": 6,
   "id": "a474c913",
   "metadata": {},
   "outputs": [
    {
     "name": "stdout",
     "output_type": "stream",
     "text": [
      "[('MANDAQUI', 'JACANA/TREMEMBE'), ('RAPOSO TAVARES', 'BUTANTA'), ('BRAS', 'PENHA'), ('CAMBUCI', 'IPIRANGA'), ('VILA ANDRADE', 'BUTANTA'), ('JOSE BONIFACIO', 'ITAQUERA'), ('VILA MATILDE', 'PENHA'), ('PONTE RASA', 'PENHA'), ('JAGUARA', 'PIRITUBA'), ('CIDADE LIDER', 'ITAQUERA'), ('IGUATEMI', 'SAO MATEUS'), ('CANGAIBA', 'PENHA'), ('VILA JACUI', 'SAO MIGUEL'), ('PENHA', 'PENHA'), ('VILA LEOPOLDINA', 'PIRITUBA'), ('LAPA', 'PIRITUBA'), ('TREMEMBE', 'JACANA/TREMEMBE'), ('VILA PRUDENTE', 'IPIRANGA'), ('CIDADE DUTRA', 'CAPELA DO SOCORRO'), ('VILA MEDEIROS', 'JACANA/TREMEMBE'), ('MOOCA', 'PENHA'), ('CARRAO', 'ITAQUERA'), ('JAGUARE', 'PIRITUBA'), ('PARELHEIROS', 'CAPELA DO SOCORRO'), ('CACHOEIRINHA', 'FREGUESIA/BRASILANDIA'), ('JARDIM ANGELA', 'CAMPO LIMPO'), ('VILA MARIA', 'JACANA/TREMEMBE'), ('CAMPO GRANDE', 'SANTO AMARO'), ('CAMPO LIMPO', 'CAMPO LIMPO'), ('JARDIM PAULISTA', 'BUTANTA'), ('SACOMA', 'IPIRANGA'), ('CIDADE ADEMAR', 'SANTO AMARO'), ('AGUA RASA', 'PENHA'), ('PIRITUBA', 'PIRITUBA'), ('SANTO AMARO', 'SANTO AMARO'), ('CIDADE TIRADENTES', 'GUAIANASES'), ('BELEM', 'PENHA'), ('SAUDE', 'IPIRANGA'), ('CAPAO REDONDO', 'CAMPO LIMPO'), ('ANHANGUERA', 'PIRITUBA'), ('PINHEIROS', 'BUTANTA'), ('JARDIM HELENA', 'SAO MIGUEL'), ('ARTUR ALVIM', 'PENHA'), ('SAO LUCAS', 'IPIRANGA'), ('CURSINO', 'IPIRANGA'), ('JABAQUARA', 'SANTO AMARO'), ('SOCORRO', 'CAPELA DO SOCORRO'), ('VILA FORMOSA', 'ITAQUERA'), ('PERDIZES', 'PIRITUBA'), ('SE', 'IPIRANGA'), ('SANTA CECILIA', 'IPIRANGA'), ('ARICANDUVA', 'ITAQUERA'), ('VILA MARIANA', 'IPIRANGA'), ('SAO DOMINGOS', 'PIRITUBA'), ('MORUMBI', 'BUTANTA'), ('PERUS', 'PIRITUBA'), ('BUTANTA', 'BUTANTA'), ('PARI', 'PENHA'), ('ITAQUERA', 'ITAQUERA'), ('PARQUE DO CARMO', 'ITAQUERA'), ('MOEMA', 'IPIRANGA'), ('BRASILANDIA', 'FREGUESIA/BRASILANDIA'), ('ERMELINO MATARAZZO', 'PENHA'), ('MARSILAC', 'CAPELA DO SOCORRO'), ('CAMPO BELO', 'SANTO AMARO'), ('RIO PEQUENO', 'BUTANTA'), ('LAJEADO', 'GUAIANASES'), ('JARAGUA', 'PIRITUBA'), ('LIMAO', 'FREGUESIA/BRASILANDIA'), ('IPIRANGA', 'IPIRANGA'), ('JARDIM SAO LUIS', 'CAMPO LIMPO'), ('CASA VERDE', 'FREGUESIA/BRASILANDIA'), ('BARRA FUNDA', 'PIRITUBA'), ('TUCURUVI', 'JACANA/TREMEMBE'), ('SAPOPEMBA', 'SAO MATEUS'), ('VILA GUILHERME', 'JACANA/TREMEMBE'), ('SAO RAFAEL', 'SAO MATEUS'), ('CONSOLACAO', 'IPIRANGA'), ('REPUBLICA', 'IPIRANGA'), ('GRAJAU', 'CAPELA DO SOCORRO'), ('SAO MIGUEL', 'SAO MIGUEL'), ('ALTO DE PINHEIROS', 'BUTANTA'), ('VILA SONIA', 'BUTANTA'), ('FREGUESIA DO O', 'FREGUESIA/BRASILANDIA'), ('GUAIANASES', 'GUAIANASES'), ('JACANA', 'JACANA/TREMEMBE'), ('TATUAPE', 'PENHA'), ('PEDREIRA', 'SANTO AMARO'), ('VILA CURUCA', 'SAO MIGUEL'), ('ITAIM PAULISTA', 'SAO MIGUEL'), ('BELA VISTA', 'IPIRANGA'), ('BOM RETIRO', 'IPIRANGA'), ('LIBERDADE', 'IPIRANGA'), ('SANTANA', 'JACANA/TREMEMBE'), ('ITAIM BIBI', 'BUTANTA'), ('SAO MATEUS', 'SAO MATEUS')]\n"
     ]
    }
   ],
   "source": [
    "rows = cur.fetchall()\n",
    "print(rows)"
   ]
  },
  {
   "cell_type": "code",
   "execution_count": 10,
   "id": "46a6def0",
   "metadata": {},
   "outputs": [],
   "source": [
    "try:\n",
    "    cur.execute(\"DROP TABLE IF EXISTS MATRICULA\")\n",
    "    cur.execute(\"\"\"\n",
    "        CREATE TABLE MATRICULA (\n",
    "            AN_LETIVO                     numeric,\n",
    "            CD_UNIDADE_EDUCACAO           numeric,\n",
    "            NOME_DISTRITO                 text,\n",
    "            CD_SETOR                      numeric,\n",
    "            TIPO_ESCOLA                   text,\n",
    "            NOME_ESCOLA                   text,\n",
    "            DRE                           text,\n",
    "            CD_INEP_ESCOLA                text,\n",
    "            SITUACAO_ESCOLA               text,\n",
    "            CD_TURMA                      numeric,\n",
    "            CD_TURNO                      numeric,\n",
    "            DESC_TURNO                    text,\n",
    "            CD_SERIE                      numeric,\n",
    "            DESC_SERIE                    text,\n",
    "            MODALIDADE                    text,\n",
    "            MODALIDADE_SEGMENTO           text,\n",
    "            TURMA_ESCOL                   text,\n",
    "            NOME_TURMA                    text,\n",
    "            DESC_ETAPA_ENSINO             text,\n",
    "            DESC_CICLO_ENSINO             text,\n",
    "            DESC_TIPO_TURMA               text,\n",
    "            CD_ALUNO_SME                  numeric,\n",
    "            NASC_ALUNO                    timestamp,\n",
    "            CD_SEXO                       text,\n",
    "            DESC_RACA_COR                 text,\n",
    "            DESC_PAIS_NASC                text,\n",
    "            CD_MUN_NASC                   text,\n",
    "            NEE                           text,\n",
    "            CD_MAT                        numeric,\n",
    "            DT_IN_MAT                     timestamp,\n",
    "            DT_FIM_MAT                    timestamp,\n",
    "            SITUACAO_MAT                  text,\n",
    "            DATA_SIT                      timestamp\n",
    "        )\n",
    "    \"\"\")\n",
    "    conn.commit()\n",
    "except Exception as e:\n",
    "    print(\"failed to create table:\", e)\n",
    "    conn.rollback()\n"
   ]
  },
  {
   "cell_type": "code",
   "execution_count": 16,
   "id": "309c5993",
   "metadata": {},
   "outputs": [],
   "source": [
    "try:\n",
    "    cur.execute(\"DROP TABLE IF EXISTS MATRICULA\")\n",
    "    cur.execute(\"\"\"\n",
    "        CREATE TABLE MATRICULA (\n",
    "            AN_LETIVO                     numeric,\n",
    "            CD_UNIDADE_EDUCACAO           numeric,\n",
    "            NOME_DISTRITO                 text,\n",
    "            CD_SETOR                      numeric,\n",
    "            TIPO_ESCOLA                   text,\n",
    "            NOME_ESCOLA                   text,\n",
    "            DRE                           text,\n",
    "            CD_INEP_ESCOLA                text,\n",
    "            CD_TURNO                      numeric,\n",
    "            DESC_TURNO                    text,\n",
    "            CD_SERIE                      numeric,\n",
    "            DESC_SERIE                    text,\n",
    "            MODALIDADE                    text,\n",
    "            NOME_TURMA                    text,\n",
    "            DESC_ETAPA_ENSINO             text,\n",
    "            DESC_CICLO_ENSINO             text,\n",
    "            DESC_TIPO_TURMA               text,\n",
    "            CD_ALUNO_SME                  numeric,\n",
    "            NASC_ALUNO                    timestamp,\n",
    "            CD_SEXO                       text,\n",
    "            DESC_RACA_COR                 text,\n",
    "            DESC_PAIS_NASC                text,\n",
    "            NEE                           text,\n",
    "            CD_MAT                        numeric,\n",
    "            DT_IN_MAT                     timestamp,\n",
    "            DT_FIM_MAT                    timestamp,\n",
    "            SITUACAO_MAT                  text,\n",
    "            DATA_SIT                      timestamp\n",
    "        )\n",
    "    \"\"\")\n",
    "    conn.commit()\n",
    "except Exception as e:\n",
    "    print(\"failed to create table:\", e)\n",
    "    conn.rollback()\n"
   ]
  },
  {
   "cell_type": "code",
   "execution_count": null,
   "id": "5a013d0c",
   "metadata": {},
   "outputs": [
    {
     "ename": "InFailedSqlTransaction",
     "evalue": "ERRO:  transação atual foi interrompida, comandos ignorados até o fim do bloco de transação\n",
     "output_type": "error",
     "traceback": [
      "\u001b[31m---------------------------------------------------------------------------\u001b[39m",
      "\u001b[31mInFailedSqlTransaction\u001b[39m                    Traceback (most recent call last)",
      "\u001b[36mCell\u001b[39m\u001b[36m \u001b[39m\u001b[32mIn[18]\u001b[39m\u001b[32m, line 50\u001b[39m\n\u001b[32m     47\u001b[39m         \u001b[38;5;28;01mreturn\u001b[39;00m chunk.replace(\u001b[33m'\u001b[39m\u001b[33m,\u001b[39m\u001b[33m'\u001b[39m, \u001b[33m'\u001b[39m\u001b[33m.\u001b[39m\u001b[33m'\u001b[39m) \u001b[38;5;28;01mif\u001b[39;00m chunk \u001b[38;5;28;01melse\u001b[39;00m \u001b[33m'\u001b[39m\u001b[33m'\u001b[39m\n\u001b[32m     49\u001b[39m fixer = CommaToDot(f)\n\u001b[32m---> \u001b[39m\u001b[32m50\u001b[39m \u001b[43mcur\u001b[49m\u001b[43m.\u001b[49m\u001b[43mcopy_expert\u001b[49m\u001b[43m(\u001b[49m\u001b[43mcopy_command\u001b[49m\u001b[43m,\u001b[49m\u001b[43m \u001b[49m\u001b[43mfixer\u001b[49m\u001b[43m)\u001b[49m\n\u001b[32m     51\u001b[39m conn.commit()\n",
      "\u001b[31mInFailedSqlTransaction\u001b[39m: ERRO:  transação atual foi interrompida, comandos ignorados até o fim do bloco de transação\n"
     ]
    }
   ],
   "source": [
    "copy_command = \"\"\"\n",
    "COPY MATRICULA (\n",
    "    AN_LETIVO,\n",
    "    CD_UNIDADE_EDUCACAO,\n",
    "    NOME_DISTRITO,\n",
    "    CD_SETOR,\n",
    "    TIPO_ESCOLA,\n",
    "    NOME_ESCOLA,\n",
    "    DRE,\n",
    "    CD_INEP_ESCOLA,\n",
    "    CD_TURNO,\n",
    "    DESC_TURNO,\n",
    "    CD_SERIE,\n",
    "    DESC_SERIE,\n",
    "    MODALIDADE,\n",
    "    NOME_TURMA,\n",
    "    DESC_ETAPA_ENSINO,\n",
    "    DESC_CICLO_ENSINO,\n",
    "    DESC_TIPO_TURMA,\n",
    "    CD_ALUNO_SME,\n",
    "    NASC_ALUNO,\n",
    "    CD_SEXO,\n",
    "    DESC_RACA_COR,\n",
    "    DESC_PAIS_NASC,\n",
    "    NEE,\n",
    "    CD_MAT,\n",
    "    DT_IN_MAT,\n",
    "    DT_FIM_MAT,\n",
    "    SITUACAO_MAT,\n",
    "    DATA_SIT\n",
    ")\n",
    "FROM STDIN WITH (\n",
    "    FORMAT CSV,\n",
    "    HEADER,\n",
    "    DELIMITER ';',\n",
    "    NULL ''\n",
    ");\n",
    "\"\"\"\n",
    "\n",
    "try:\n",
    "\n",
    "    for file in os.listdir('datasets'):\n",
    "        if file.endswith('.csv') and 'Microdados' in file:\n",
    "            with open(os.path.join('datasets', file), 'r', encoding='utf-8-sig') as f:\n",
    "                class CommaToDot(io.TextIOBase):\n",
    "                    def __init__(self, f):  self.f = f\n",
    "                    def read(self, size=-1):\n",
    "                        chunk = self.f.read(size)\n",
    "                        return chunk.replace(',', '.') if chunk else ''\n",
    "\n",
    "                fixer = CommaToDot(f)\n",
    "                cur.copy_expert(copy_command, fixer)\n",
    "                conn.commit()\n",
    "\n",
    "except Exception as e:\n",
    "    print(\"failed to create table:\", e)\n",
    "    conn.rollback()"
   ]
  },
  {
   "cell_type": "code",
   "execution_count": null,
   "id": "74fb5b8b",
   "metadata": {},
   "outputs": [],
   "source": [
    "cur.execute(\"\"\"\n",
    "DROP TABLE IF EXISTS TURMA;\n",
    "\n",
    "CREATE TABLE TURMA (\n",
    "    DRE               TEXT,\n",
    "    CODINEP           NUMERIC,\n",
    "    TIPOESC           TEXT,\n",
    "    NOMESC            TEXT,\n",
    "    SUBPREF           TEXT,\n",
    "    DISTRITO          TEXT,\n",
    "    CODAMB            NUMERIC,\n",
    "    DESCAMB           TEXT,\n",
    "    CAPREAL           NUMERIC,\n",
    "    METRAGEM          NUMERIC,\n",
    "    MODAL             TEXT,\n",
    "    REDE              TEXT,\n",
    "    CODSERIE          NUMERIC,\n",
    "    DESCSERIE         TEXT,\n",
    "    TURNO             NUMERIC,\n",
    "    TURMA             TEXT,\n",
    "    VAGOFER           NUMERIC,\n",
    "    MATRIC            NUMERIC\n",
    ")\n",
    "\"\"\")\n",
    "conn.commit()"
   ]
  },
  {
   "cell_type": "code",
   "execution_count": null,
   "id": "f8b8a980",
   "metadata": {},
   "outputs": [],
   "source": [
    "copy_command = \"\"\"\n",
    "COPY TURMA (\n",
    "    DRE,\n",
    "    CODINEP,\n",
    "    TIPOESC,\n",
    "    NOMESC,\n",
    "    SUBPREF,\n",
    "    DISTRITO,\n",
    "    CODAMB,\n",
    "    DESCAMB,\n",
    "    CAPREAL,\n",
    "    METRAGEM,\n",
    "    MODAL,\n",
    "    REDE,\n",
    "    CODSERIE,\n",
    "    DESCSERIE,\n",
    "    TURNO,\n",
    "    TURMA,\n",
    "    VAGOFER,\n",
    "    MATRIC\n",
    ")\n",
    "FROM STDIN WITH (\n",
    "    FORMAT CSV,\n",
    "    HEADER,\n",
    "    DELIMITER ';',\n",
    "    NULL ''\n",
    ");\n",
    "\"\"\"\n",
    "\n",
    "with open('datasets/turmas_processed.csv', 'r', encoding='utf-8-sig') as f:\n",
    "    cur.copy_expert(copy_command, f)\n",
    "    conn.commit()"
   ]
  },
  {
   "cell_type": "code",
   "execution_count": null,
   "id": "e218b394",
   "metadata": {},
   "outputs": [],
   "source": [
    "cur.execute(\"\"\"\n",
    "DROP TABLE IF EXISTS PARCERIA;\n",
    "\n",
    "CREATE TABLE PARCERIA (\n",
    "    NUM_PROTOCOLO       NUMERIC,\n",
    "    DRE                 TEXT,\n",
    "    OSC_PARCEIRA        TEXT,\n",
    "    CNPJ                TEXT,\n",
    "    CODIGO_ESCOLA       NUMERIC,\n",
    "    UNIDADE_EDUCACIONAL TEXT,\n",
    "    VALOR_MENSAL        NUMERIC,\n",
    "    VERBA_LOCACAO       NUMERIC,\n",
    "    VALOR_MENSAL_IPTU   NUMERIC,\n",
    "    DATA_INICIO         TIMESTAMP,\n",
    "    DATA_TERMINO        TIMESTAMP\n",
    ")\n",
    "\"\"\")\n",
    "conn.commit()"
   ]
  },
  {
   "cell_type": "code",
   "execution_count": null,
   "id": "ddc51872",
   "metadata": {},
   "outputs": [],
   "source": [
    "copy_command = \"\"\"\n",
    "COPY PARCERIA (\n",
    "    NUM_PROTOCOLO,\n",
    "    DRE,\n",
    "    OSC_PARCEIRA,\n",
    "    CNPJ,\n",
    "    CODIGO_ESCOLA,\n",
    "    UNIDADE_EDUCACIONAL,\n",
    "    VALOR_MENSAL,\n",
    "    VERBA_LOCACAO,\n",
    "    VALOR_MENSAL_IPTU,\n",
    "    DATA_INICIO,\n",
    "    DATA_TERMINO\n",
    ")\n",
    "FROM STDIN WITH (\n",
    "    FORMAT CSV,\n",
    "    HEADER,\n",
    "    DELIMITER ';',\n",
    "    NULL ''\n",
    ");\n",
    "\"\"\"\n",
    "\n",
    "with open('datasets/parcerias_processed.csv', 'r', encoding='utf-8-sig') as f:\n",
    "    cur.copy_expert(copy_command, f)\n",
    "    conn.commit()"
   ]
  },
  {
   "cell_type": "code",
   "execution_count": null,
   "id": "6d7f6e9a",
   "metadata": {},
   "outputs": [],
   "source": [
    "conn.commit()\n",
    "cur.close()\n",
    "conn.close()"
   ]
  }
 ],
 "metadata": {
  "kernelspec": {
   "display_name": ".venv",
   "language": "python",
   "name": "python3"
  },
  "language_info": {
   "codemirror_mode": {
    "name": "ipython",
    "version": 3
   },
   "file_extension": ".py",
   "mimetype": "text/x-python",
   "name": "python",
   "nbconvert_exporter": "python",
   "pygments_lexer": "ipython3",
   "version": "3.13.0"
  }
 },
 "nbformat": 4,
 "nbformat_minor": 5
}
