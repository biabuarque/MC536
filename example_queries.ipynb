{
 "cells": [
  {
   "cell_type": "code",
   "execution_count": 46,
   "metadata": {},
   "outputs": [],
   "source": [
    "import psycopg2\n",
    "import io\n",
    "import csv\n",
    "\n",
    "conn = psycopg2.connect(\n",
    "    dbname=\"postgres\",\n",
    "    user=\"postgres\",\n",
    "    password=\"Lucas123\",\n",
    "    host=\"localhost\",\n",
    "    port=\"5432\"\n",
    ")\n",
    "\n",
    "cur = conn.cursor()\n",
    "\n",
    "queries = []"
   ]
  },
  {
   "cell_type": "markdown",
   "metadata": {},
   "source": [
    "## Query Examples\n",
    "\n",
    "Below are 5 non-trivial queries, which demonstrate the usability of the project for complex analysis of data from the São Paulo Municipal Public School Network."
   ]
  },
  {
   "cell_type": "markdown",
   "metadata": {},
   "source": [
    "### 1. Student Distribution by Race and Country of Origin in Each District\n",
    "\n",
    "#### Explanation:\n",
    "\n",
    "This query counts the number of distinct students (`id_aluno`) grouped by their race (`desc_raca_cor`) and country of origin (`desc_pais_nasc`). The results are ordered by the total number of students in descending order.\n",
    "\n",
    "#### Real-World Use:\n",
    "\n",
    "- Diversity Analysis: Assesses the racial and ethnic diversity within schools.\n",
    "\n",
    "- Policy Development: Informs policies aimed at promoting inclusivity and equity.\n",
    "\n",
    "- Community Engagement: Helps in understanding the demographic composition of school communities."
   ]
  },
  {
   "cell_type": "code",
   "execution_count": 47,
   "metadata": {},
   "outputs": [],
   "source": [
    "queries.append((\"\"\"\n",
    "SELECT r.nome_distrito AS district, a.raca_cor AS race, a.pais_nasc AS birth_country, COUNT(DISTINCT a.id_aluno) AS total_students\n",
    "FROM Aluno a\n",
    "INNER JOIN (SELECT t.nome_turma, e.nome_distrito\n",
    "\t\t\tFROM Turma t\n",
    "            INNER JOIN Escola e ON t.nome_esc = e.nome_esc) r \n",
    "            ON a.nome_turma = r.nome_turma\n",
    "GROUP BY r.nome_distrito, a.raca_cor, a.pais_nasc\n",
    "ORDER BY total_students DESC;\n",
    "\"\"\", \"query1.csv\"))"
   ]
  },
  {
   "cell_type": "markdown",
   "metadata": {},
   "source": [
    "### 2. Students with Disabilities by Type in Each School\n",
    "\n",
    "#### Explanation:\n",
    "\n",
    "This query counts the number of distinct students (`id_aluno`) with non-null disability types (`nee`). The results are grouped by disability type and ordered by the total number of students in descending order.\n",
    "\n",
    "#### Real-World Use:\n",
    "\n",
    "- Special Education Planning: Assists in allocating resources for students with disabilities.\n",
    "\n",
    "- Policy Formulation: Informs policies to support inclusive education.\n",
    "\n",
    "- Needs Assessment: Identifies areas requiring specialized services."
   ]
  },
  {
   "cell_type": "code",
   "execution_count": 48,
   "metadata": {},
   "outputs": [],
   "source": [
    "queries.append((\"\"\"\n",
    "SELECT r.nome_distrito AS district, a.nee, COUNT(DISTINCT a.id_aluno) AS total_students\n",
    "FROM Aluno a\n",
    "INNER JOIN (SELECT t.nome_turma, e.nome_distrito\n",
    "            FROM Turma t\n",
    "            INNER JOIN Escola e ON t.nome_esc = e.nome_esc) r \n",
    "            ON a.nome_turma = r.nome_turma\n",
    "WHERE nee IS NOT NULL\n",
    "GROUP BY r.nome_distrito, a.nee\n",
    "ORDER BY total_students DESC;\n",
    "\"\"\", \"query2.csv\"))"
   ]
  },
  {
   "cell_type": "markdown",
   "metadata": {},
   "source": [
    "### 3. Open spaces in classes per district\n",
    "\n",
    "#### Explanation:\n",
    "\n",
    "This query calculates, by each district, what is the number of the vacant places in classes (total number of places - number of enrolled students)\n",
    "\n",
    "#### Real-World Use:\n",
    "\n",
    "- Resource Allocation: Identifying districts with schools that have available capacity, aiding in decisions about where to allocate resources or open new classes.\n",
    "\n",
    "- Policy Planning: Assisting policymakers in understanding enrollment patterns and making informed decisions about school expansions or consolidations.\n",
    "\n",
    "- Community Engagement: Providing transparency to the community about school capacities and potential for accommodating additional students."
   ]
  },
  {
   "cell_type": "code",
   "execution_count": 49,
   "metadata": {},
   "outputs": [],
   "source": [
    "queries.append((\"\"\"\n",
    "SELECT e.nome_distrito AS district, SUM(t.vagas - t.matriculados) AS open_spaces\n",
    "FROM Turma t\n",
    "INNER JOIN  Escola e ON t.nome_esc = e.nome_esc\n",
    "GROUP BY e.nome_distrito\n",
    "ORDER BY open_spaces DESC;\n",
    "\"\"\", \"query3.csv\"))"
   ]
  },
  {
   "cell_type": "markdown",
   "metadata": {},
   "source": [
    "### 4. Different Ambients per School Type\n",
    "\n",
    "#### Explanation:\n",
    "\n",
    "This query identifies the different types of environments (ambients) used in each school:\n",
    "\n",
    "- Selecting the school name (`nome_esc`) and the environment code (`cod_amb`).\n",
    "\n",
    "- Counting the distinct environment codes for each school to determine the variety of environments.\n",
    "\n",
    "- Grouping the results by school and environment code, and ordering them by the number of distinct environments in descending order.\n",
    "\n",
    "#### Real-World Use:\n",
    "\n",
    "- Infrastructure Planning: Assessing whether schools are utilizing their facilities effectively or if there is a need for additional specialized spaces.\n",
    "\n",
    "- Curriculum Development: Informing decisions about the types of environments needed to support different teaching methods and learning activities.\n",
    "\n",
    "- Facility Management: Assisting in the management and maintenance of various school environments to ensure they meet educational needs."
   ]
  },
  {
   "cell_type": "code",
   "execution_count": 50,
   "metadata": {},
   "outputs": [],
   "source": [
    "queries.append((\"\"\"\n",
    "SELECT e.nome_esc as school, a.desc_amb AS ambient, COUNT(DISTINCT a.cod_amb) AS total_ambients\n",
    "FROM Ambiente a\n",
    "INNER JOIN Escola e ON a.nome_esc = e.nome_esc\n",
    "GROUP BY e.nome_esc, a.desc_amb\n",
    "ORDER BY total_ambients DESC, school;\n",
    "\"\"\", \"query4.csv\"))"
   ]
  },
  {
   "cell_type": "markdown",
   "metadata": {},
   "source": [
    "### 5. Average Age of Students by School\n",
    "\n",
    "#### Explanation:\n",
    "\n",
    "This query calculates the average age of students in each school by subtracting the birth year (`nascimento`) from the current year. The results are grouped by school name (`nome_esc`) and ordered by average age in descending order.\n",
    "\n",
    "#### Real-World Use:\n",
    "\n",
    "- Curriculum Design: Assists in tailoring educational content to age groups.\n",
    "\n",
    "- Age Distribution Analysis: Provides insights into the age demographics of students.\n",
    "\n",
    "- Policy Planning: Informs decisions on age-appropriate educational strategies."
   ]
  },
  {
   "cell_type": "code",
   "execution_count": null,
   "metadata": {},
   "outputs": [],
   "source": [
    "queries.append((\"\"\"\n",
    "SELECT r.nome_esc AS escola, ROUND(AVG(EXTRACT(YEAR FROM CURRENT_DATE) - EXTRACT(YEAR FROM a.nascimento)), 0) AS average_age\n",
    "FROM Aluno a\n",
    "INNER JOIN (SELECT t.nome_turma, e.nome_esc\n",
    "            FROM Turma t\n",
    "            INNER JOIN Escola e ON t.nome_esc = e.nome_esc) r \n",
    "            ON a.nome_turma = r.nome_turma\n",
    "\t\t\tWHERE a.nascimento IS NOT NULL\n",
    "GROUP BY r.nome_esc \n",
    "ORDER BY average_age DESC;\n",
    "\"\"\", \"query5.csv\"))"
   ]
  },
  {
   "cell_type": "code",
   "execution_count": 52,
   "metadata": {},
   "outputs": [],
   "source": [
    "for query, filename in queries:\n",
    "    with conn.cursor() as cur:\n",
    "        cur.execute(query)\n",
    "        rows = cur.fetchall()\n",
    "        with open(filename, mode='w', newline='', encoding='utf-8') as f:\n",
    "            writer = csv.writer(f)\n",
    "            writer.writerow([desc[0] for desc in cur.description])  # Write header\n",
    "            writer.writerows(rows)"
   ]
  },
  {
   "cell_type": "code",
   "execution_count": 53,
   "metadata": {},
   "outputs": [],
   "source": [
    "conn.commit()\n",
    "cur.close()\n",
    "conn.close()"
   ]
  }
 ],
 "metadata": {
  "kernelspec": {
   "display_name": "Python 3",
   "language": "python",
   "name": "python3"
  },
  "language_info": {
   "codemirror_mode": {
    "name": "ipython",
    "version": 3
   },
   "file_extension": ".py",
   "mimetype": "text/x-python",
   "name": "python",
   "nbconvert_exporter": "python",
   "pygments_lexer": "ipython3",
   "version": "3.10.12"
  }
 },
 "nbformat": 4,
 "nbformat_minor": 2
}
